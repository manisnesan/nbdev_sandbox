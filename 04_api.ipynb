{
 "cells": [
  {
   "cell_type": "raw",
   "metadata": {},
   "source": [
    "---\n",
    "title: api\n",
    "output-file: api.html\n",
    "description: Fill in a module description here\n",
    "---"
   ]
  },
  {
   "cell_type": "code",
   "execution_count": null,
   "metadata": {},
   "outputs": [],
   "source": [
    "#| default_exp api"
   ]
  },
  {
   "cell_type": "code",
   "execution_count": null,
   "metadata": {},
   "outputs": [
    {
     "name": "stderr",
     "output_type": "stream",
     "text": [
      "/home/msivanes/.local/lib/python3.9/site-packages/fastprogress/fastprogress.py:102: UserWarning: Couldn't import ipywidgets properly, progress bar will use console behavior\n",
      "  warn(\"Couldn't import ipywidgets properly, progress bar will use console behavior\")\n"
     ]
    }
   ],
   "source": [
    "#| hide\n",
    "from nbdev.showdoc import *"
   ]
  },
  {
   "cell_type": "code",
   "execution_count": null,
   "metadata": {},
   "outputs": [],
   "source": [
    "from fastcore.all import *"
   ]
  },
  {
   "cell_type": "markdown",
   "metadata": {},
   "source": [
    "# Salesforce KCS Search"
   ]
  },
  {
   "cell_type": "markdown",
   "metadata": {},
   "source": [
    "### Search using title or id "
   ]
  },
  {
   "cell_type": "markdown",
   "metadata": {},
   "source": [
    "As a support associate, I should be able to search using title or id of KCS Resource (Solution/Article) that I know exists and get the respective KCS resource in Salesforce KCS Search Results and ** link the KCS resource to the support case.\n",
    "\n",
    "```\n",
    "curl 'https://access.redhat.com/hydra/rest/search/v2/kcs?sso_username=rhn-support-msivanes' -X POST -H 'Accept: application/json' -H 'Accept-Language: en-US,en;q=0.5' -H 'Content-Type: application/json' --data-raw '{\"q\":\"The jobs are failing., ERROR CODE [82:158]: The job is pending because: The remote end has closed network connection unexpectedly\",\"clientName\":\"gss-salesforce\",\"rows\":5,\"expression\":\"fq=(documentKind: Solution) OR (documentKind: Article) OR (documentKind: Cve) OR (documentKind: Errata) OR (documentKind: LabInfo) OR (documentKind: Video) OR (documentKind: Vulnerability) OR (documentKind: CertifiedHardware) OR (documentKind: CertifiedSoftware) OR (documentKind: CertifiedCloudPartner)\"}' | jq '.'\n",
    "```\n",
    "\n",
    "Search using title \" Jenkins Build errors after deleting application and recreating it.\"\n",
    "```\n",
    "curl 'https://access.redhat.com/hydra/rest/search/v2/kcs?sso_username=rhn-support-msivanes' -X POST -H 'Accept: application/json' -H 'Accept-Language: en-US,en;q=0.5' -H 'Content-Type: application/json' --data-raw '{\"q\":\"Jenkins Build errors after deleting application and recreating it. \",\"clientName\":\"gss-salesforce\",\"rows\":5,\"expression\":\"fl=allTitle,score&fq=(documentKind: Solution) OR (documentKind: Article) OR (documentKind: Cve) OR (documentKind: Errata) OR (documentKind: LabInfo) OR (documentKind: Video) OR (documentKind: Vulnerability) OR (documentKind: CertifiedHardware) OR (documentKind: CertifiedSoftware) OR (documentKind: CertifiedCloudPartner)\"}' | jq '.'\n",
    "```\n",
    "\n",
    "Search using id 540413\n",
    "\n",
    "```\n",
    "curl 'https://access.redhat.com/hydra/rest/search/v2/kcs?sso_username=rhn-support-msivanes' -X POST -H 'Accept: application/json' -H 'Accept-Language: en-US,en;q=0.5' -H 'Content-Type: application/json' --data-raw '{\"q\":\"540413\",\"clientName\":\"gss-salesforce\",\"rows\":5,\"expression\":\"fl=id,allTitle,score&fq=(documentKind: Solution) OR (documentKind: Article) OR (documentKind: Cve) OR (documentKind: Errata) OR (documentKind: LabInfo) OR (documentKind: Video) OR (documentKind: Vulnerability) OR (documentKind: CertifiedHardware) OR (documentKind: CertifiedSoftware) OR (documentKind: CertifiedCloudPartner)\"}' | jq '.'\n",
    "```"
   ]
  },
  {
   "cell_type": "code",
   "execution_count": null,
   "metadata": {},
   "outputs": [],
   "source": [
    "#| export\n",
    "import requests, json\n",
    "def sf_kcssearch(query: str='540413'):\n",
    "    url = \"https://access.redhat.com/hydra/rest/search/v2/kcs\"\n",
    "    payload = json.dumps({\"start\": 0, \"rows\": 5,\"q\": f\"{query}\",\"expression\": \"fl=allTitle,id,score&fq=(documentKind: Solution) OR (documentKind: Article) OR (documentKind: Cve) OR (documentKind: Errata) OR (documentKind: LabInfo) OR (documentKind: Video) OR (documentKind: Vulnerability) OR (documentKind: CertifiedHardware) OR (documentKind: CertifiedSoftware) OR (documentKind: CertifiedCloudPartner)\"})\n",
    "    headers = {'Accept': 'application/json', 'Content-Type': 'application/json'}\n",
    "    response = requests.request(\"POST\", url, headers=headers, data=payload)\n",
    "    return response.json()"
   ]
  },
  {
   "cell_type": "code",
   "execution_count": null,
   "metadata": {},
   "outputs": [],
   "source": [
    "test_eq(sf_kcssearch('540413')['response']['docs'][0]['id'] == '540413', True)"
   ]
  },
  {
   "cell_type": "code",
   "execution_count": null,
   "metadata": {},
   "outputs": [],
   "source": [
    "expected='Jenkins Build errors after deleting application and recreating it.'\n",
    "test_eq(sf_kcssearch(expected)['response']['docs'][0]['allTitle'], 'Jenkins Build errors after deleting application and recreating it.')"
   ]
  },
  {
   "cell_type": "code",
   "execution_count": null,
   "metadata": {},
   "outputs": [],
   "source": [
    "#| hide\n",
    "import nbdev; nbdev.nbdev_export()"
   ]
  },
  {
   "cell_type": "code",
   "execution_count": null,
   "metadata": {},
   "outputs": [],
   "source": []
  }
 ],
 "metadata": {
  "kernelspec": {
   "display_name": "rhapi",
   "language": "python",
   "name": "rhapi"
  }
 },
 "nbformat": 4,
 "nbformat_minor": 4
}
