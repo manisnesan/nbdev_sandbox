{
 "cells": [
  {
   "cell_type": "markdown",
   "id": "424352af",
   "metadata": {},
   "source": [
    "# Git-friendly Jupyter\n",
    "\n",
    "> How to use nbdev hooks for git-friendly Jupyter notebooks"
   ]
  },
  {
   "cell_type": "markdown",
   "id": "6d4927c0",
   "metadata": {},
   "source": [
    "Version control is essential to developing software, yet Jupyer notebooks don't work with version control by default. nbdev solves this problem! It provides a set of hooks which enable git-friendly Jupyter notebooks in any git repo, including those that don't use the broader nbdev system."
   ]
  },
  {
   "cell_type": "markdown",
   "id": "68073399",
   "metadata": {},
   "source": [
    "To get started, install nbdev:\n",
    "    \n",
    "```sh\n",
    "pip install -U nbdev\n",
    "```\n",
    "\n",
    "then install hooks:\n",
    "    \n",
    "```sh\n",
    "nbdev_install_hooks\n",
    "```\n",
    "\n",
    "That's it! Read on if you're stuck or if you'd like to learn more about nbdev hooks and how to customise them."
   ]
  },
  {
   "cell_type": "code",
   "execution_count": null,
   "id": "9b484c23",
   "metadata": {},
   "outputs": [],
   "source": [
    "#|hide\n",
    "import os,tempfile\n",
    "from pathlib import Path"
   ]
  },
  {
   "cell_type": "code",
   "execution_count": null,
   "id": "62035b50",
   "metadata": {},
   "outputs": [],
   "source": [
    "#|hide\n",
    "tmpdir = Path(tempfile.mkdtemp())"
   ]
  },
  {
   "cell_type": "code",
   "execution_count": null,
   "id": "1e61039f",
   "metadata": {},
   "outputs": [],
   "source": [
    "\n",
    "repo_path = tmpdir/'repo'\n",
    "repo_path.mkdir(exist_ok=True)\n",
    "cwd = Path.cwd()\n",
    "os.chdir(repo_path)"
   ]
  },
  {
   "cell_type": "markdown",
   "id": "4b92afe9",
   "metadata": {},
   "source": [
    "## Quickstart: Install nbdev hooks for a repo"
   ]
  },
  {
   "cell_type": "markdown",
   "id": "34c4b2f8",
   "metadata": {},
   "source": [
    "To start with, change directory to your current project and double-check. Don't worry about the strange path, that's because we're using a temporary directory for this tutorial:"
   ]
  },
  {
   "cell_type": "code",
   "execution_count": null,
   "id": "2ed1f7d7",
   "metadata": {},
   "outputs": [
    {
     "name": "stdout",
     "output_type": "stream",
     "text": [
      "/tmp/tmpr5g3lfxn/repo\n"
     ]
    }
   ],
   "source": [
    "!pwd"
   ]
  },
  {
   "cell_type": "markdown",
   "id": "25b3852e",
   "metadata": {},
   "source": [
    "Install nbdev:"
   ]
  },
  {
   "cell_type": "code",
   "execution_count": null,
   "id": "cb3b0f71",
   "metadata": {},
   "outputs": [],
   "source": [
    "!pip install -Uqq nbdev"
   ]
  },
  {
   "cell_type": "markdown",
   "id": "6192885e",
   "metadata": {},
   "source": [
    "Install nbdev hooks:"
   ]
  },
  {
   "cell_type": "code",
   "execution_count": null,
   "id": "70deeb69",
   "metadata": {},
   "outputs": [
    {
     "name": "stdout",
     "output_type": "stream",
     "text": [
      "Not in a git repository, git hooks cannot be installed.\n"
     ]
    }
   ],
   "source": [
    "!nbdev_install_hooks"
   ]
  },
  {
   "cell_type": "markdown",
   "id": "4121f198",
   "metadata": {},
   "source": [
    "You'll see the above error if you're not in a git repo. If so, initialise a git repository:"
   ]
  },
  {
   "cell_type": "code",
   "execution_count": null,
   "id": "a892e140",
   "metadata": {},
   "outputs": [
    {
     "name": "stdout",
     "output_type": "stream",
     "text": [
      "Initialized empty Git repository in /tmp/tmpr5g3lfxn/repo/.git/\n"
     ]
    }
   ],
   "source": [
    "!git init"
   ]
  },
  {
   "cell_type": "markdown",
   "id": "0d0f8d85",
   "metadata": {},
   "source": [
    "Then try installing nbdev hooks again:"
   ]
  },
  {
   "cell_type": "code",
   "execution_count": null,
   "id": "988286bf",
   "metadata": {},
   "outputs": [
    {
     "name": "stdout",
     "output_type": "stream",
     "text": [
      "Hooks are installed.\n"
     ]
    }
   ],
   "source": [
    "!nbdev_install_hooks"
   ]
  },
  {
   "cell_type": "markdown",
   "id": "5bd512c4",
   "metadata": {},
   "source": [
    "If you already have a pre-save hook set in your Jupyter config file we won't be able to safely install a new one automatically. Instead, you'll encounter an error and will need to follow its instructions for a manual installation."
   ]
  },
  {
   "cell_type": "markdown",
   "id": "be83c67e",
   "metadata": {},
   "source": [
    "Jupyter hooks will now be installed in your user's Jupyter config directory, and will work for all repos by default. Git hooks will only be installed in the current repo; **you will need to rerun `nbdev_install_hooks` for each of your git repos**. See [_Configuring nbdev hooks_](#configuring-nbdev-hooks) if you'd like to customise hook behaviour, for example, to opt out of hooks in certain repos."
   ]
  },
  {
   "cell_type": "markdown",
   "id": "2a2a92ee",
   "metadata": {},
   "source": [
    "## What are nbdev hooks?"
   ]
  },
  {
   "cell_type": "markdown",
   "id": "fb1a1372",
   "metadata": {},
   "source": [
    "nbdev provides three hooks to ease Jupyter-git integration."
   ]
  },
  {
   "cell_type": "markdown",
   "id": "806ad147",
   "metadata": {},
   "source": [
    "### `nbdev_merge` on merging notebooks with git"
   ]
  },
  {
   "cell_type": "markdown",
   "id": "2b0ce997",
   "metadata": {},
   "source": [
    "One of the biggest complaints when working with Jupyter is that merge conflicts break notebooks. This is particularly problematic in projects with many collaborators."
   ]
  },
  {
   "cell_type": "markdown",
   "id": "d9d79231",
   "metadata": {},
   "source": [
    "![Jupyter notebook shows the above error when opening a notebook with merge conflicts.](images/jupyter-unreadable-notebook.png){fig-alt=\"Jupyter notebook error: 'Error loading notebook: Unreadable Notebook...'\" width=\"800px\" .p-1 fig-align=\"center\" .border .rounded .shadow-sm}"
   ]
  },
  {
   "cell_type": "markdown",
   "id": "88061e81",
   "metadata": {},
   "source": [
    "Oftentimes these conflicts are on metadata like cell execution counts that we don't really care about. nbdev comes with a custom git merge driver that automatically fixes conflicting outputs and metadata, and that leaves remaining conflicts in a state that still works with Jupyter. It works in all git commands that use merge under the hood, including `merge`, `pull`, `rebase`, and `stash`."
   ]
  },
  {
   "cell_type": "markdown",
   "id": "6987dbcc",
   "metadata": {},
   "source": [
    "Here's what the conflict looks like in Jupyter with nbdev's merge driver:"
   ]
  },
  {
   "cell_type": "markdown",
   "id": "8c6a541f",
   "metadata": {},
   "source": [
    "![](images/jupyter-friendly-conflict.png){fig-alt=\"Jupyter-friendly git conflict with patches in individual cells separated by conflict markers\" width=\"400px\" .p-2 fig-align=\"center\" .border .rounded .shadow-sm}"
   ]
  },
  {
   "cell_type": "markdown",
   "id": "8dd2bd2b",
   "metadata": {},
   "source": [
    "### `nbdev_clean` on saving notebooks in Jupyter"
   ]
  },
  {
   "cell_type": "markdown",
   "id": "98fbab67",
   "metadata": {},
   "source": [
    "Jupyter notebooks store a variety of metadata (including execution counts and notebook extension info) that aren't conducive to collaborative version control systems like git. These pollute diffs in pull requests and git histories (which can make debugging harder), and tend to cause merge conflicts. For example:\n",
    "\n",
    "```diff\n",
    "  {\n",
    "   \"cell_type\": \"code\",\n",
    "-  \"execution_count\": 1,\n",
    "+  \"execution_count\": 2,\n",
    "   \"metadata\": {\n",
    "     \"hide_input\": false\n",
    "  }\n",
    "```"
   ]
  },
  {
   "cell_type": "markdown",
   "id": "d53994d4",
   "metadata": {},
   "source": [
    "Python's default repr is another example, since it includes a memory address which we usually aren't interested in:\n",
    "\n",
    "```diff\n",
    "-<matplotlib.axes._subplots.AxesSubplot at 0x7fbc11508950>\n",
    "+<matplotlib.axes._subplots.AxesSubplot at 0x7fbc113dbe90>\n",
    "```"
   ]
  },
  {
   "cell_type": "markdown",
   "id": "7aa5334b",
   "metadata": {},
   "source": [
    "nbdev install a Jupyter hook which runs `nbdev_clean` to automatically clean unwanted metadata and outputs from your notebooks, including ids from default Python reprs! With nbdev hooks, the examples above would become:\n",
    "\n",
    "```json\n",
    "{\n",
    "  \"cell_type\": \"code\",\n",
    "  \"execution_count\": null,\n",
    "  \"metadata\": {}\n",
    "}\n",
    "```\n",
    "\n",
    "and\n",
    "\n",
    "```\n",
    "<matplotlib.axes._subplots.AxesSubplot>\n",
    "```"
   ]
  },
  {
   "cell_type": "markdown",
   "id": "f3221c6a",
   "metadata": {},
   "source": [
    "### `nbdev_trust` after merging notebooks with git"
   ]
  },
  {
   "cell_type": "markdown",
   "id": "fc0b24c4",
   "metadata": {},
   "source": [
    "A side-effect of Jupyter's security model is that widgets don't work in collaborative repos, unless you manually \"trust\" notebooks after each `git pull`. There is a good reason behind this: since Jupyter notebooks contain HTML and JavaScript, the trust system avoids running malicious code when you open a notebook and don't explicitly run any cells. See [the official documentation](https://jupyter-server.readthedocs.io/en/latest/operators/security.html#security-in-notebook-documents) for more."
   ]
  },
  {
   "cell_type": "markdown",
   "id": "8cb0cda9",
   "metadata": {},
   "source": [
    "Manually trusting notebooks each time is a pain. A more natural workflow would be trust a repo once-off, and all notebooks and changes thereafter. nbdev includes a git post-merge hook which runs `nbdev_trust` in your repo to do exactly this."
   ]
  },
  {
   "cell_type": "markdown",
   "id": "a5ea10f3",
   "metadata": {},
   "source": [
    "## Configuring nbdev hooks"
   ]
  },
  {
   "cell_type": "markdown",
   "id": "e2fc370a",
   "metadata": {},
   "source": [
    "The most up-to-date reference of nbdev's settings is in the `nbdev_create_config` docs. In addition, this section will guide you through a few common configurations."
   ]
  },
  {
   "cell_type": "markdown",
   "id": "b46f69aa",
   "metadata": {},
   "source": [
    "**Control whether Jupyter hooks are run:**\n",
    "\n",
    "- Globally enable Jupyter hooks: set `jupyter_hooks = True` in user settings\n",
    "- Globally disable Jupyter hooks: set `jupyter_hooks = False` in user settings (at `~/.config/nbdev/settings.ini`)\n",
    "- Enable Jupyter hooks only for selected repos: set `jupyter_hooks = False` in user settings and `jupyter_hooks = True` in selected repo settings"
   ]
  },
  {
   "cell_type": "markdown",
   "id": "1f8589b3",
   "metadata": {},
   "source": [
    "**Customise notebook cleaning with the following settings:**\n",
    "\n",
    "- Clean _all_ outputs and metadata: `clear_all`\n",
    "- Preserve certain metadata by key: `allowed_metadata_keys` and `allowed_cell_metadata_keys`\n",
    "- Clean `id`s from default Python `repr`s: `clean_ids`\n",
    "\n",
    "All of the above can be customised per-user and per-repo."
   ]
  },
  {
   "cell_type": "markdown",
   "id": "b9b203c0",
   "metadata": {},
   "source": [
    "**Control whether git hooks are run:**\n",
    "\n",
    "Since git hooks are installed per-repo they'll only run in repos where you manually `nbdev_install_hooks`. If you change your mind later, you can uninstall git hooks by following the instructions in the `.gitconfig` file created in your repo."
   ]
  },
  {
   "cell_type": "code",
   "execution_count": null,
   "id": "423c5158",
   "metadata": {},
   "outputs": [],
   "source": [
    "#|hide\n",
    "import shutil\n",
    "shutil.rmtree(tmpdir)\n",
    "os.chdir(cwd)"
   ]
  },
  {
   "cell_type": "code",
   "execution_count": null,
   "id": "9c224fb6",
   "metadata": {},
   "outputs": [],
   "source": []
  }
 ],
 "metadata": {
  "kernelspec": {
   "display_name": "Python 3.9.5 ('fastai')",
   "language": "python",
   "name": "python3"
  }
 },
 "nbformat": 4,
 "nbformat_minor": 5
}
